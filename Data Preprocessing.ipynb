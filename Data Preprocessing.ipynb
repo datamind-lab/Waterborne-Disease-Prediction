{
 "cells": [
  {
   "cell_type": "markdown",
   "metadata": {},
   "source": [
    "## *Required Libraries*"
   ]
  },
  {
   "cell_type": "code",
   "execution_count": 19,
   "metadata": {},
   "outputs": [],
   "source": [
    "import pandas as pd\n",
    "from sklearn.preprocessing import LabelEncoder\n",
    "import matplotlib.pyplot as plt\n",
    "import seaborn as sns"
   ]
  },
  {
   "cell_type": "markdown",
   "metadata": {},
   "source": [
    "## *Loading the Data*"
   ]
  },
  {
   "cell_type": "code",
   "execution_count": 2,
   "metadata": {},
   "outputs": [],
   "source": [
    "train=pd.read_csv(\"Data/Train.csv\")\n",
    "test=pd.read_csv(\"Data/Test.csv\")\n",
    "waste=pd.read_csv(\"Data/waste_management.csv\")\n",
    "water=pd.read_csv(\"Data/water_sources.csv\")\n",
    "toilet=pd.read_csv(\"Data/toilets.csv\")"
   ]
  },
  {
   "cell_type": "code",
   "execution_count": 3,
   "metadata": {},
   "outputs": [
    {
     "data": {
      "text/html": [
       "<div>\n",
       "<style scoped>\n",
       "    .dataframe tbody tr th:only-of-type {\n",
       "        vertical-align: middle;\n",
       "    }\n",
       "\n",
       "    .dataframe tbody tr th {\n",
       "        vertical-align: top;\n",
       "    }\n",
       "\n",
       "    .dataframe thead th {\n",
       "        text-align: right;\n",
       "    }\n",
       "</style>\n",
       "<table border=\"1\" class=\"dataframe\">\n",
       "  <thead>\n",
       "    <tr style=\"text-align: right;\">\n",
       "      <th></th>\n",
       "      <th>ID</th>\n",
       "      <th>Total</th>\n",
       "      <th>Location</th>\n",
       "      <th>Category_Health_Facility_UUID</th>\n",
       "      <th>Disease</th>\n",
       "      <th>Month</th>\n",
       "      <th>Year</th>\n",
       "      <th>Transformed_Latitude</th>\n",
       "      <th>Transformed_Longitude</th>\n",
       "    </tr>\n",
       "  </thead>\n",
       "  <tbody>\n",
       "    <tr>\n",
       "      <th>0</th>\n",
       "      <td>ID_3a11929e-3317-476d-99f7-1bd9fb58f018_12_202...</td>\n",
       "      <td>0.0</td>\n",
       "      <td>ID_3a11929e-3317-476d-99f7-1bd9fb58f018</td>\n",
       "      <td>a9280aca-c872-46f5-ada7-4a7cc31cf6ec</td>\n",
       "      <td>Dysentery</td>\n",
       "      <td>12</td>\n",
       "      <td>2022</td>\n",
       "      <td>-8.62982</td>\n",
       "      <td>68.23267</td>\n",
       "    </tr>\n",
       "    <tr>\n",
       "      <th>1</th>\n",
       "      <td>ID_3a11929e-3317-476d-99f7-1bd9fb58f018_12_202...</td>\n",
       "      <td>0.0</td>\n",
       "      <td>ID_3a11929e-3317-476d-99f7-1bd9fb58f018</td>\n",
       "      <td>a9280aca-c872-46f5-ada7-4a7cc31cf6ec</td>\n",
       "      <td>Typhoid</td>\n",
       "      <td>12</td>\n",
       "      <td>2022</td>\n",
       "      <td>-8.62982</td>\n",
       "      <td>68.23267</td>\n",
       "    </tr>\n",
       "    <tr>\n",
       "      <th>2</th>\n",
       "      <td>ID_3a11929e-3317-476d-99f7-1bd9fb58f018_12_202...</td>\n",
       "      <td>0.0</td>\n",
       "      <td>ID_3a11929e-3317-476d-99f7-1bd9fb58f018</td>\n",
       "      <td>a9280aca-c872-46f5-ada7-4a7cc31cf6ec</td>\n",
       "      <td>Diarrhea</td>\n",
       "      <td>12</td>\n",
       "      <td>2022</td>\n",
       "      <td>-8.62982</td>\n",
       "      <td>68.23267</td>\n",
       "    </tr>\n",
       "    <tr>\n",
       "      <th>3</th>\n",
       "      <td>ID_3a11929e-3317-476d-99f7-1bd9fb58f018_12_202...</td>\n",
       "      <td>0.0</td>\n",
       "      <td>ID_3a11929e-3317-476d-99f7-1bd9fb58f018</td>\n",
       "      <td>a9280aca-c872-46f5-ada7-4a7cc31cf6ec</td>\n",
       "      <td>Diarrhea</td>\n",
       "      <td>12</td>\n",
       "      <td>2022</td>\n",
       "      <td>-8.62982</td>\n",
       "      <td>68.23267</td>\n",
       "    </tr>\n",
       "    <tr>\n",
       "      <th>4</th>\n",
       "      <td>ID_3a11929e-3317-476d-99f7-1bd9fb58f018_12_202...</td>\n",
       "      <td>0.0</td>\n",
       "      <td>ID_3a11929e-3317-476d-99f7-1bd9fb58f018</td>\n",
       "      <td>a9280aca-c872-46f5-ada7-4a7cc31cf6ec</td>\n",
       "      <td>Diarrhea</td>\n",
       "      <td>12</td>\n",
       "      <td>2022</td>\n",
       "      <td>-8.62982</td>\n",
       "      <td>68.23267</td>\n",
       "    </tr>\n",
       "  </tbody>\n",
       "</table>\n",
       "</div>"
      ],
      "text/plain": [
       "                                                  ID  Total  \\\n",
       "0  ID_3a11929e-3317-476d-99f7-1bd9fb58f018_12_202...    0.0   \n",
       "1  ID_3a11929e-3317-476d-99f7-1bd9fb58f018_12_202...    0.0   \n",
       "2  ID_3a11929e-3317-476d-99f7-1bd9fb58f018_12_202...    0.0   \n",
       "3  ID_3a11929e-3317-476d-99f7-1bd9fb58f018_12_202...    0.0   \n",
       "4  ID_3a11929e-3317-476d-99f7-1bd9fb58f018_12_202...    0.0   \n",
       "\n",
       "                                  Location  \\\n",
       "0  ID_3a11929e-3317-476d-99f7-1bd9fb58f018   \n",
       "1  ID_3a11929e-3317-476d-99f7-1bd9fb58f018   \n",
       "2  ID_3a11929e-3317-476d-99f7-1bd9fb58f018   \n",
       "3  ID_3a11929e-3317-476d-99f7-1bd9fb58f018   \n",
       "4  ID_3a11929e-3317-476d-99f7-1bd9fb58f018   \n",
       "\n",
       "          Category_Health_Facility_UUID    Disease  Month  Year  \\\n",
       "0  a9280aca-c872-46f5-ada7-4a7cc31cf6ec  Dysentery     12  2022   \n",
       "1  a9280aca-c872-46f5-ada7-4a7cc31cf6ec    Typhoid     12  2022   \n",
       "2  a9280aca-c872-46f5-ada7-4a7cc31cf6ec   Diarrhea     12  2022   \n",
       "3  a9280aca-c872-46f5-ada7-4a7cc31cf6ec   Diarrhea     12  2022   \n",
       "4  a9280aca-c872-46f5-ada7-4a7cc31cf6ec   Diarrhea     12  2022   \n",
       "\n",
       "   Transformed_Latitude  Transformed_Longitude  \n",
       "0              -8.62982               68.23267  \n",
       "1              -8.62982               68.23267  \n",
       "2              -8.62982               68.23267  \n",
       "3              -8.62982               68.23267  \n",
       "4              -8.62982               68.23267  "
      ]
     },
     "execution_count": 3,
     "metadata": {},
     "output_type": "execute_result"
    }
   ],
   "source": [
    "train.head()"
   ]
  },
  {
   "cell_type": "code",
   "execution_count": 4,
   "metadata": {},
   "outputs": [
    {
     "name": "stdout",
     "output_type": "stream",
     "text": [
      "Train Data Shape - (23848, 9)\n",
      "Test Data Shape - (4872, 8)\n",
      "Waste Data Shape - (5100, 43)\n",
      "Water Data Shape - (10560, 43)\n",
      "Toilet Data Shape - (10680, 43)\n"
     ]
    }
   ],
   "source": [
    "print(\"Train Data Shape -\",train.shape)\n",
    "print(\"Test Data Shape -\",test.shape)\n",
    "print(\"Waste Data Shape -\",waste.shape)\n",
    "print(\"Water Data Shape -\",water.shape)\n",
    "print(\"Toilet Data Shape -\",toilet.shape)"
   ]
  },
  {
   "cell_type": "code",
   "execution_count": 5,
   "metadata": {},
   "outputs": [
    {
     "data": {
      "text/plain": [
       "ID                                object\n",
       "Total                            float64\n",
       "Location                          object\n",
       "Category_Health_Facility_UUID     object\n",
       "Disease                           object\n",
       "Month                              int64\n",
       "Year                               int64\n",
       "Transformed_Latitude             float64\n",
       "Transformed_Longitude            float64\n",
       "dtype: object"
      ]
     },
     "execution_count": 5,
     "metadata": {},
     "output_type": "execute_result"
    }
   ],
   "source": [
    "train.dtypes"
   ]
  },
  {
   "cell_type": "code",
   "execution_count": 6,
   "metadata": {},
   "outputs": [
    {
     "data": {
      "text/html": [
       "<div>\n",
       "<style scoped>\n",
       "    .dataframe tbody tr th:only-of-type {\n",
       "        vertical-align: middle;\n",
       "    }\n",
       "\n",
       "    .dataframe tbody tr th {\n",
       "        vertical-align: top;\n",
       "    }\n",
       "\n",
       "    .dataframe thead th {\n",
       "        text-align: right;\n",
       "    }\n",
       "</style>\n",
       "<table border=\"1\" class=\"dataframe\">\n",
       "  <thead>\n",
       "    <tr style=\"text-align: right;\">\n",
       "      <th></th>\n",
       "      <th>Total</th>\n",
       "      <th>Month</th>\n",
       "      <th>Year</th>\n",
       "      <th>Transformed_Latitude</th>\n",
       "      <th>Transformed_Longitude</th>\n",
       "    </tr>\n",
       "  </thead>\n",
       "  <tbody>\n",
       "    <tr>\n",
       "      <th>count</th>\n",
       "      <td>23847.000000</td>\n",
       "      <td>23848.000000</td>\n",
       "      <td>23848.000000</td>\n",
       "      <td>23848.00000</td>\n",
       "      <td>23848.000000</td>\n",
       "    </tr>\n",
       "    <tr>\n",
       "      <th>mean</th>\n",
       "      <td>8.355600</td>\n",
       "      <td>6.568643</td>\n",
       "      <td>2020.610282</td>\n",
       "      <td>-8.61252</td>\n",
       "      <td>68.242682</td>\n",
       "    </tr>\n",
       "    <tr>\n",
       "      <th>std</th>\n",
       "      <td>28.076713</td>\n",
       "      <td>3.445577</td>\n",
       "      <td>1.133108</td>\n",
       "      <td>0.04251</td>\n",
       "      <td>0.029114</td>\n",
       "    </tr>\n",
       "    <tr>\n",
       "      <th>min</th>\n",
       "      <td>0.000000</td>\n",
       "      <td>1.000000</td>\n",
       "      <td>2019.000000</td>\n",
       "      <td>-8.71376</td>\n",
       "      <td>68.169720</td>\n",
       "    </tr>\n",
       "    <tr>\n",
       "      <th>25%</th>\n",
       "      <td>0.000000</td>\n",
       "      <td>4.000000</td>\n",
       "      <td>2020.000000</td>\n",
       "      <td>-8.62656</td>\n",
       "      <td>68.224740</td>\n",
       "    </tr>\n",
       "    <tr>\n",
       "      <th>50%</th>\n",
       "      <td>0.000000</td>\n",
       "      <td>7.000000</td>\n",
       "      <td>2021.000000</td>\n",
       "      <td>-8.61740</td>\n",
       "      <td>68.237620</td>\n",
       "    </tr>\n",
       "    <tr>\n",
       "      <th>75%</th>\n",
       "      <td>3.000000</td>\n",
       "      <td>10.000000</td>\n",
       "      <td>2022.000000</td>\n",
       "      <td>-8.59431</td>\n",
       "      <td>68.257640</td>\n",
       "    </tr>\n",
       "    <tr>\n",
       "      <th>max</th>\n",
       "      <td>489.000000</td>\n",
       "      <td>12.000000</td>\n",
       "      <td>2022.000000</td>\n",
       "      <td>-8.49681</td>\n",
       "      <td>68.328390</td>\n",
       "    </tr>\n",
       "  </tbody>\n",
       "</table>\n",
       "</div>"
      ],
      "text/plain": [
       "              Total         Month          Year  Transformed_Latitude  \\\n",
       "count  23847.000000  23848.000000  23848.000000           23848.00000   \n",
       "mean       8.355600      6.568643   2020.610282              -8.61252   \n",
       "std       28.076713      3.445577      1.133108               0.04251   \n",
       "min        0.000000      1.000000   2019.000000              -8.71376   \n",
       "25%        0.000000      4.000000   2020.000000              -8.62656   \n",
       "50%        0.000000      7.000000   2021.000000              -8.61740   \n",
       "75%        3.000000     10.000000   2022.000000              -8.59431   \n",
       "max      489.000000     12.000000   2022.000000              -8.49681   \n",
       "\n",
       "       Transformed_Longitude  \n",
       "count           23848.000000  \n",
       "mean               68.242682  \n",
       "std                 0.029114  \n",
       "min                68.169720  \n",
       "25%                68.224740  \n",
       "50%                68.237620  \n",
       "75%                68.257640  \n",
       "max                68.328390  "
      ]
     },
     "execution_count": 6,
     "metadata": {},
     "output_type": "execute_result"
    }
   ],
   "source": [
    "train.describe()"
   ]
  },
  {
   "cell_type": "markdown",
   "metadata": {},
   "source": [
    "## *EDA and Data Preprocessing*"
   ]
  },
  {
   "cell_type": "markdown",
   "metadata": {},
   "source": [
    "### *Handling Missing Data*"
   ]
  },
  {
   "cell_type": "code",
   "execution_count": 7,
   "metadata": {},
   "outputs": [
    {
     "data": {
      "text/plain": [
       "ID                               0\n",
       "Total                            1\n",
       "Location                         0\n",
       "Category_Health_Facility_UUID    0\n",
       "Disease                          0\n",
       "Month                            0\n",
       "Year                             0\n",
       "Transformed_Latitude             0\n",
       "Transformed_Longitude            0\n",
       "dtype: int64"
      ]
     },
     "execution_count": 7,
     "metadata": {},
     "output_type": "execute_result"
    }
   ],
   "source": [
    "train.isna().sum()"
   ]
  },
  {
   "cell_type": "code",
   "execution_count": 8,
   "metadata": {},
   "outputs": [],
   "source": [
    "train.dropna(inplace=True)"
   ]
  },
  {
   "cell_type": "markdown",
   "metadata": {},
   "source": [
    "### *Handling Duplicate Values*"
   ]
  },
  {
   "cell_type": "code",
   "execution_count": 9,
   "metadata": {},
   "outputs": [
    {
     "data": {
      "text/plain": [
       "6675"
      ]
     },
     "execution_count": 9,
     "metadata": {},
     "output_type": "execute_result"
    }
   ],
   "source": [
    "train.duplicated().sum()"
   ]
  },
  {
   "cell_type": "code",
   "execution_count": 10,
   "metadata": {},
   "outputs": [],
   "source": [
    "train.drop_duplicates(inplace=True)"
   ]
  },
  {
   "cell_type": "markdown",
   "metadata": {},
   "source": [
    "### *Data Encoding*"
   ]
  },
  {
   "cell_type": "code",
   "execution_count": 16,
   "metadata": {},
   "outputs": [
    {
     "data": {
      "text/plain": [
       "Disease\n",
       "Diarrhea            4336\n",
       "Malaria             4165\n",
       "Typhoid             2168\n",
       "Intestinal Worms    2168\n",
       "Schistosomiasis     2167\n",
       "Dysentery           2144\n",
       "Cholera               24\n",
       "Name: count, dtype: int64"
      ]
     },
     "execution_count": 16,
     "metadata": {},
     "output_type": "execute_result"
    }
   ],
   "source": [
    "train['Disease'].value_counts()"
   ]
  },
  {
   "cell_type": "code",
   "execution_count": 18,
   "metadata": {},
   "outputs": [],
   "source": [
    "label_encoder = LabelEncoder()\n",
    "train['Encoded'] = label_encoder.fit_transform(train['Disease'])\n",
    "train['Category_Health_Facility_Encoded'] = label_encoder.fit_transform(train['Category_Health_Facility_UUID'])"
   ]
  },
  {
   "cell_type": "markdown",
   "metadata": {},
   "source": [
    "### *Data Visualization*"
   ]
  },
  {
   "cell_type": "markdown",
   "metadata": {},
   "source": [
    "*Histplot for frequency distribution*"
   ]
  },
  {
   "cell_type": "code",
   "execution_count": 46,
   "metadata": {},
   "outputs": [
    {
     "data": {
      "image/png": "[encoded data removed]",
      "text/plain": [
       "<Figure size 1000x600 with 1 Axes>"
      ]
     },
     "metadata": {},
     "output_type": "display_data"
    }
   ],
   "source": [
    "plt.figure(figsize=(10, 6))\n",
    "sns.histplot(train['Total'], bins=100, kde=True, color='blue')\n",
    "plt.title('Distribution of Total Outbreaks')\n",
    "plt.xlabel('Total Outbreaks')\n",
    "plt.ylabel('Frequency')\n",
    "plt.show()"
   ]
  },
  {
   "cell_type": "markdown",
   "metadata": {},
   "source": [
    "*Boxplot for Outlier detection*"
   ]
  },
  {
   "cell_type": "code",
   "execution_count": 40,
   "metadata": {},
   "outputs": [
    {
     "data": {
      "image/png": "[encoded data removed]",
      "text/plain": [
       "<Figure size 1000x500 with 1 Axes>"
      ]
     },
     "metadata": {},
     "output_type": "display_data"
    }
   ],
   "source": [
    "plt.figure(figsize=(10, 5))\n",
    "plt.boxplot(train['Total'])\n",
    "plt.title('Boxplot of Total Outbreaks')\n",
    "plt.xlabel('Total Outbreaks')\n",
    "plt.show()"
   ]
  },
  {
   "cell_type": "markdown",
   "metadata": {},
   "source": [
    "### *Feature Engineering*"
   ]
  },
  {
   "cell_type": "code",
   "execution_count": null,
   "metadata": {},
   "outputs": [],
   "source": []
  }
 ],
 "metadata": {
  "kernelspec": {
   "display_name": "Python 3",
   "language": "python",
   "name": "python3"
  },
  "language_info": {
   "codemirror_mode": {
    "name": "ipython",
    "version": 3
   },
   "file_extension": ".py",
   "mimetype": "text/x-python",
   "name": "python",
   "nbconvert_exporter": "python",
   "pygments_lexer": "ipython3",
   "version": "3.11.7"
  }
 },
 "nbformat": 4,
 "nbformat_minor": 2
}
